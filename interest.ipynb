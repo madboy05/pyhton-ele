{
 "cells": [
  {
   "cell_type": "code",
   "execution_count": 20,
   "metadata": {},
   "outputs": [
    {
     "name": "stdout",
     "output_type": "stream",
     "text": [
      "year \t starting balance \t\t interest\t\tending balance\n",
      "1 \t\t 10000.00 \t\t 500.00 \t\t     10500.00 \n",
      "\n",
      "2 \t\t 10500.00 \t\t 525.00 \t\t     11025.00 \n",
      "\n",
      "3 \t\t 11025.00 \t\t 551.25 \t\t     11576.25 \n",
      "\n",
      "4 \t\t 11576.25 \t\t 578.81 \t\t     12155.06 \n",
      "\n",
      "5 \t\t 12155.06 \t\t 607.75 \t\t     12762.82 \n",
      "\n",
      "ending balance=$ 12762.82\n",
      "Total interest earned=$  2762.82\n"
     ]
    }
   ],
   "source": [
    "a=float(input(\"enter the investment  amount:\"))\n",
    "n=int(input(\"enter the no. of years:\"))\n",
    "r=int(input(\"enter the rate as a percentage:\"))\n",
    "print(\"year \\t starting balance \\t\\t interest\\t\\tending balance\")\n",
    "e=0\n",
    "ci=0\n",
    "inter=0\n",
    "for i in range(1,n+1) :\n",
    "    ci=(a*r)/100\n",
    "    e=a+ci\n",
    "    print(i,\"\\t\\t\",'%8.2f'%a,\"\\t\\t\",'%5.2f'%ci,\"\\t\\t    \",'%8.2f'%e,\"\\n\")\n",
    "    a=e\n",
    "    inter=inter+ci\n",
    "print(\"ending balance=$\",'%8.2f'%e)\n",
    "print(\"Total interest earned=$\",'%8.2f'%inter)"
   ]
  }
 ],
 "metadata": {
  "kernelspec": {
   "display_name": "Python 3",
   "language": "python",
   "name": "python3"
  },
  "language_info": {
   "codemirror_mode": {
    "name": "ipython",
    "version": 3
   },
   "file_extension": ".py",
   "mimetype": "text/x-python",
   "name": "python",
   "nbconvert_exporter": "python",
   "pygments_lexer": "ipython3",
   "version": "3.8.0"
  }
 },
 "nbformat": 4,
 "nbformat_minor": 2
}
