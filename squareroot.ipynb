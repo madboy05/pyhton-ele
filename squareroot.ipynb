{
 "cells": [
  {
   "cell_type": "code",
   "execution_count": 15,
   "metadata": {},
   "outputs": [
    {
     "name": "stdout",
     "output_type": "stream",
     "text": [
      "1.50000000\n"
     ]
    }
   ],
   "source": [
    "a=int(input(\"enter a positive number:\"))\n",
    "x=a\n",
    "m=a\n",
    "z=1.0\n",
    "for i in range(1,a) :\n",
    "    \n",
    "    z=(z+x/z)/2\n",
    "    if m>z:\n",
    "        m=z\n",
    "print('%8.8f'%m)\n"
   ]
  }
 ],
 "metadata": {
  "kernelspec": {
   "display_name": "Python 3",
   "language": "python",
   "name": "python3"
  },
  "language_info": {
   "codemirror_mode": {
    "name": "ipython",
    "version": 3
   },
   "file_extension": ".py",
   "mimetype": "text/x-python",
   "name": "python",
   "nbconvert_exporter": "python",
   "pygments_lexer": "ipython3",
   "version": "3.8.0"
  }
 },
 "nbformat": 4,
 "nbformat_minor": 2
}
